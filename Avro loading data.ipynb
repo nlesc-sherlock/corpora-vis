{
 "cells": [
  {
   "cell_type": "code",
   "execution_count": 15,
   "metadata": {
    "collapsed": true
   },
   "outputs": [],
   "source": [
    "from pyspark.sql.functions import size"
   ]
  },
  {
   "cell_type": "code",
   "execution_count": 21,
   "metadata": {
    "collapsed": true
   },
   "outputs": [],
   "source": [
    "from pyspark.sql.functions import array_contains"
   ]
  },
  {
   "cell_type": "code",
   "execution_count": null,
   "metadata": {
    "collapsed": true
   },
   "outputs": [],
   "source": []
  },
  {
   "cell_type": "code",
   "execution_count": 1,
   "metadata": {
    "collapsed": false
   },
   "outputs": [],
   "source": [
    "reader = sqlContext.read.format('com.databricks.spark.avro')"
   ]
  },
  {
   "cell_type": "code",
   "execution_count": 2,
   "metadata": {
    "collapsed": false
   },
   "outputs": [],
   "source": [
    "df = reader.load('data/spark_metadata.avro')"
   ]
  },
  {
   "cell_type": "code",
   "execution_count": 3,
   "metadata": {
    "collapsed": false
   },
   "outputs": [
    {
     "data": {
      "text/plain": [
       "['id',\n",
       " 'path',\n",
       " 'message_id',\n",
       " 'date',\n",
       " 'from',\n",
       " 'to',\n",
       " 'cc',\n",
       " 'bcc',\n",
       " 'subject',\n",
       " 'references']"
      ]
     },
     "execution_count": 3,
     "metadata": {},
     "output_type": "execute_result"
    }
   ],
   "source": [
    "df.columns"
   ]
  },
  {
   "cell_type": "code",
   "execution_count": 22,
   "metadata": {
    "collapsed": false
   },
   "outputs": [
    {
     "name": "stdout",
     "output_type": "stream",
     "text": [
      "+------+--------------------+--------------------+--------------------+--------------------+--------------------+--------------------+--------------------+--------------------+----------+\n",
      "|    id|                path|          message_id|                date|                from|                  to|                  cc|                 bcc|             subject|references|\n",
      "+------+--------------------+--------------------+--------------------+--------------------+--------------------+--------------------+--------------------+--------------------+----------+\n",
      "|486383|maildir/lokay-m/a...|<10497489.1075844...|2001-01-08T08:34:...|maggie.matheson@e...|[kevin.hyatt@enro...|                  []|                  []|Re: TW Security A...|        []|\n",
      "|490755|maildir/lokay-m/s...|<18395121.1075844...|2001-01-08T08:34:...|maggie.matheson@e...|[kevin.hyatt@enro...|                  []|                  []|Re: TW Security A...|        []|\n",
      "|505280|maildir/mcconnell...|<14851779.1075861...|2001-11-15T11:52:...|maggie.matheson@e...|[paul.y'barbo@enr...|[linda.trevino@en...|[linda.trevino@en...|  CAS Access Request|        []|\n",
      "|215502|maildir/lavorato-...|<12519111.1075845...|2000-01-19T09:41:...|maggie_timmins@cd...|[afowler@arcfinan...|                  []|                  []|BALLOON PRIZES - ...|        []|\n",
      "|215875|maildir/lavorato-...|<22855342.1075845...|2000-01-13T11:45:...|maggie_timmins@cd...|[afowler@arcfinan...|                  []|                  []|WHERE ARE THE BAL...|        []|\n",
      "|216665|maildir/lavorato-...|<4430863.10758577...|2000-01-19T09:41:...|maggie_timmins@cd...|[afowler@arcfinan...|                  []|                  []|BALLOON PRIZES - ...|        []|\n",
      "|216675|maildir/lavorato-...|<24098035.1075857...|2000-01-13T11:45:...|maggie_timmins@cd...|[afowler@arcfinan...|                  []|                  []|WHERE ARE THE BAL...|        []|\n",
      "|226218|maildir/ybarbo-p/...|<20085101.1075862...|2001-11-15T11:52:...|maggie.matheson@e...|[paul.y'barbo@enr...|[linda.trevino@en...|[linda.trevino@en...|  CAS Access Request|        []|\n",
      "|227501|maildir/hyvl-d/al...|<9107180.10758422...|2000-01-07T08:20:...|maggie.ortiz@enro...|[daniel.verastegu...|[connie.sutton@en...|[connie.sutton@en...|Entex Gas Marketi...|        []|\n",
      "|228886|maildir/hyvl-d/ga...|<23025436.1075842...|2000-01-07T08:20:...|maggie.ortiz@enro...|[daniel.verastegu...|[connie.sutton@en...|[connie.sutton@en...|Entex Gas Marketi...|        []|\n",
      "|108080|maildir/schoolcra...|<18625006.1075860...|2002-01-25T14:10:...|maggie.matheson@e...|[darrell.schoolcr...|[ramona.betancour...|[ramona.betancour...|         POI    8042|        []|\n",
      "|108209|maildir/schoolcra...|<23020759.1075860...|2002-01-23T11:17:...|maggie.matheson@e...|[linda.trevino@en...|[charlie.yuan@enr...|[charlie.yuan@enr...|      RE: POI 500631|        []|\n",
      "|108373|maildir/schoolcra...|<3271564.10758607...|2002-01-23T11:42:...|maggie.matheson@e...|[maggie.matheson@...|[charlie.yuan@enr...|[charlie.yuan@enr...|      RE: POI 500631|        []|\n",
      "|108561|maildir/schoolcra...|<18698138.1075860...|2002-01-23T14:49:...|maggie.matheson@e...|[linda.trevino@en...|[darrell.schoolcr...|[darrell.schoolcr...|     West Texas Pool|        []|\n",
      "|352663|maildir/hayslett-...|<7233119.10758442...|2000-06-28T08:37:...|maggie.schroeder@...|[rod.hayslett@enr...|                  []|                  []|Brian Schroeder -...|        []|\n",
      "|352742|maildir/hayslett-...|<12727684.1075844...|2000-11-14T08:34:...|maggie.schroeder@...|[gruberg@epenergy...|[rod.hayslett@enr...|[rod.hayslett@enr...|           Tangerine|        []|\n",
      "|353082|maildir/hayslett-...|<19601085.1075862...|2001-07-02T12:40:...|maggie.schroeder@...|[rod.hayslett@enr...|                  []|                  []|       Maggie's info|        []|\n",
      "|353715|maildir/hayslett-...|<27926586.1075844...|2000-11-14T08:34:...|maggie.schroeder@...|[gruberg@epenergy...|[rod.hayslett@enr...|[rod.hayslett@enr...|           Tangerine|        []|\n",
      "|353934|maildir/hayslett-...|<15548518.1075844...|2000-06-28T08:37:...|maggie.schroeder@...|[rod.hayslett@enr...|                  []|                  []|Brian Schroeder -...|        []|\n",
      "|354101|maildir/hayslett-...|<16326595.1075844...|2000-06-28T08:37:...|maggie.schroeder@...|[rod.hayslett@enr...|                  []|                  []|Brian Schroeder -...|        []|\n",
      "+------+--------------------+--------------------+--------------------+--------------------+--------------------+--------------------+--------------------+--------------------+----------+\n",
      "only showing top 20 rows\n",
      "\n"
     ]
    }
   ],
   "source": [
    "selection1 = df[df['from'].startswith('maggie')]\n",
    "#selection2 = selection1[selection1['to'].apply(lambda name: name.startswith('kev'))]\n",
    "#selection2.select(['id', 'from', 'to', 'subject']).show()\n",
    "# col = selection1['to']\n",
    "selection1.show()"
   ]
  },
  {
   "cell_type": "code",
   "execution_count": 29,
   "metadata": {
    "collapsed": true
   },
   "outputs": [],
   "source": [
    "from pyspark.sql.functions import udf"
   ]
  },
  {
   "cell_type": "code",
   "execution_count": 30,
   "metadata": {
    "collapsed": true
   },
   "outputs": [],
   "source": [
    "from pyspark.sql.types import BooleanType"
   ]
  },
  {
   "cell_type": "code",
   "execution_count": 40,
   "metadata": {
    "collapsed": false
   },
   "outputs": [
    {
     "name": "stdout",
     "output_type": "stream",
     "text": [
      "+------+--------------------+--------------------+--------------------+--------------------+--------------------+---+---+--------------------+----------+\n",
      "|    id|                path|          message_id|                date|                from|                  to| cc|bcc|             subject|references|\n",
      "+------+--------------------+--------------------+--------------------+--------------------+--------------------+---+---+--------------------+----------+\n",
      "|486383|maildir/lokay-m/a...|<10497489.1075844...|2001-01-08T08:34:...|maggie.matheson@e...|[kevin.hyatt@enro...| []| []|Re: TW Security A...|        []|\n",
      "|490755|maildir/lokay-m/s...|<18395121.1075844...|2001-01-08T08:34:...|maggie.matheson@e...|[kevin.hyatt@enro...| []| []|Re: TW Security A...|        []|\n",
      "+------+--------------------+--------------------+--------------------+--------------------+--------------------+---+---+--------------------+----------+\n",
      "\n"
     ]
    }
   ],
   "source": [
    "# selection1[col.getItem(0).startswith('kevin')].show()\n",
    "# selection1.select(size(col)).show()\n",
    "\n",
    "kevudf = udf(hasKevin, BooleanType())\n",
    "selection1.filter(kevudf(df.to)).show()"
   ]
  },
  {
   "cell_type": "code",
   "execution_count": 20,
   "metadata": {
    "collapsed": false
   },
   "outputs": [],
   "source": [
    "df1 = df.toPandas()"
   ]
  },
  {
   "cell_type": "code",
   "execution_count": 57,
   "metadata": {
    "collapsed": false
   },
   "outputs": [
    {
     "data": {
      "text/html": [
       "<div>\n",
       "<table border=\"1\" class=\"dataframe\">\n",
       "  <thead>\n",
       "    <tr style=\"text-align: right;\">\n",
       "      <th></th>\n",
       "      <th>from</th>\n",
       "      <th>to</th>\n",
       "      <th>subject</th>\n",
       "    </tr>\n",
       "  </thead>\n",
       "  <tbody>\n",
       "    <tr>\n",
       "      <th>21856</th>\n",
       "      <td>maggie.matheson@enron.com</td>\n",
       "      <td>[kevin.hyatt@enron.com, michelle.lokay@enron.com]</td>\n",
       "      <td>Re: TW Security Access Request</td>\n",
       "    </tr>\n",
       "    <tr>\n",
       "      <th>26228</th>\n",
       "      <td>maggie.matheson@enron.com</td>\n",
       "      <td>[kevin.hyatt@enron.com, michelle.lokay@enron.com]</td>\n",
       "      <td>Re: TW Security Access Request</td>\n",
       "    </tr>\n",
       "  </tbody>\n",
       "</table>\n",
       "</div>"
      ],
      "text/plain": [
       "                            from  \\\n",
       "21856  maggie.matheson@enron.com   \n",
       "26228  maggie.matheson@enron.com   \n",
       "\n",
       "                                                      to  \\\n",
       "21856  [kevin.hyatt@enron.com, michelle.lokay@enron.com]   \n",
       "26228  [kevin.hyatt@enron.com, michelle.lokay@enron.com]   \n",
       "\n",
       "                              subject  \n",
       "21856  Re: TW Security Access Request  \n",
       "26228  Re: TW Security Access Request  "
      ]
     },
     "execution_count": 57,
     "metadata": {},
     "output_type": "execute_result"
    }
   ],
   "source": [
    "def array_any(f, col):\n",
    "    return any(map(f, col))\n",
    "\n",
    "def lambda_startswith(prefix):\n",
    "    return lambda value: value.startswith(prefix)\n",
    "\n",
    "def hasKevin(tos):\n",
    "    return array_any(lambda_startswith('kev'), tos)\n",
    "\n",
    "def contains(value):\n",
    "    return udf(lambda name: value in name, BooleanType())\n",
    "\n",
    "df2 = df1[df1['from'].apply(lambda_startswith('maggie'))]\n",
    "\n",
    "selection2 = df2[df2['to'].apply(hasKevin)]\n",
    "selection2[['from', 'to', 'subject']]\n"
   ]
  },
  {
   "cell_type": "code",
   "execution_count": null,
   "metadata": {
    "collapsed": true
   },
   "outputs": [],
   "source": [
    "selection2['to']"
   ]
  },
  {
   "cell_type": "code",
   "execution_count": 36,
   "metadata": {
    "collapsed": false
   },
   "outputs": [
    {
     "data": {
      "text/html": [
       "<div>\n",
       "<table border=\"1\" class=\"dataframe\">\n",
       "  <thead>\n",
       "    <tr style=\"text-align: right;\">\n",
       "      <th></th>\n",
       "      <th>id</th>\n",
       "      <th>path</th>\n",
       "      <th>message_id</th>\n",
       "      <th>date</th>\n",
       "      <th>from</th>\n",
       "      <th>to</th>\n",
       "      <th>cc</th>\n",
       "      <th>bcc</th>\n",
       "      <th>subject</th>\n",
       "      <th>references</th>\n",
       "    </tr>\n",
       "  </thead>\n",
       "  <tbody>\n",
       "    <tr>\n",
       "      <th>456234</th>\n",
       "      <td>33523</td>\n",
       "      <td>maildir/lay-k/deleted_items/472.</td>\n",
       "      <td>&lt;614215.1075860820728.JavaMail.evans@thyme&gt;</td>\n",
       "      <td>2002-01-30T09:42:14-08:00</td>\n",
       "      <td>wallymar@home.com</td>\n",
       "      <td>[klay@enron.com]</td>\n",
       "      <td>[]</td>\n",
       "      <td>[]</td>\n",
       "      <td>Demand Ken Lay Donate Proceeds from Enron Stoc...</td>\n",
       "      <td>[]</td>\n",
       "    </tr>\n",
       "    <tr>\n",
       "      <th>492401</th>\n",
       "      <td>69690</td>\n",
       "      <td>maildir/taylor-m/archive/2001_11/49.</td>\n",
       "      <td>&lt;26135252.1075861971244.JavaMail.evans@thyme&gt;</td>\n",
       "      <td>2001-11-07T15:06:58-08:00</td>\n",
       "      <td>wally.shaw@blakes.com</td>\n",
       "      <td>[legal &lt;.taylor@enron.com&gt;]</td>\n",
       "      <td>[]</td>\n",
       "      <td>[]</td>\n",
       "      <td>Fwd: Re: Acknowledgments and Resolutions</td>\n",
       "      <td>[]</td>\n",
       "    </tr>\n",
       "    <tr>\n",
       "      <th>492403</th>\n",
       "      <td>69692</td>\n",
       "      <td>maildir/taylor-m/archive/2001_11/51.</td>\n",
       "      <td>&lt;22238007.1075861971290.JavaMail.evans@thyme&gt;</td>\n",
       "      <td>2001-11-07T14:30:16-08:00</td>\n",
       "      <td>wally.shaw@blakes.com</td>\n",
       "      <td>[douglas.stephen@enron.com, legal &lt;.taylor@enr...</td>\n",
       "      <td>[]</td>\n",
       "      <td>[]</td>\n",
       "      <td>Acknowledgments and Resolutions</td>\n",
       "      <td>[]</td>\n",
       "    </tr>\n",
       "  </tbody>\n",
       "</table>\n",
       "</div>"
      ],
      "text/plain": [
       "           id                                  path  \\\n",
       "456234  33523      maildir/lay-k/deleted_items/472.   \n",
       "492401  69690  maildir/taylor-m/archive/2001_11/49.   \n",
       "492403  69692  maildir/taylor-m/archive/2001_11/51.   \n",
       "\n",
       "                                           message_id  \\\n",
       "456234    <614215.1075860820728.JavaMail.evans@thyme>   \n",
       "492401  <26135252.1075861971244.JavaMail.evans@thyme>   \n",
       "492403  <22238007.1075861971290.JavaMail.evans@thyme>   \n",
       "\n",
       "                             date                   from  \\\n",
       "456234  2002-01-30T09:42:14-08:00      wallymar@home.com   \n",
       "492401  2001-11-07T15:06:58-08:00  wally.shaw@blakes.com   \n",
       "492403  2001-11-07T14:30:16-08:00  wally.shaw@blakes.com   \n",
       "\n",
       "                                                       to  cc bcc  \\\n",
       "456234                                   [klay@enron.com]  []  []   \n",
       "492401                        [legal <.taylor@enron.com>]  []  []   \n",
       "492403  [douglas.stephen@enron.com, legal <.taylor@enr...  []  []   \n",
       "\n",
       "                                                  subject references  \n",
       "456234  Demand Ken Lay Donate Proceeds from Enron Stoc...         []  \n",
       "492401           Fwd: Re: Acknowledgments and Resolutions         []  \n",
       "492403                    Acknowledgments and Resolutions         []  "
      ]
     },
     "execution_count": 36,
     "metadata": {},
     "output_type": "execute_result"
    }
   ],
   "source": [
    "df1[df1['from'].apply(lambda x: x.startswith('wally'))]"
   ]
  },
  {
   "cell_type": "code",
   "execution_count": 63,
   "metadata": {
    "collapsed": false
   },
   "outputs": [
    {
     "data": {
      "text/plain": [
       "13782"
      ]
     },
     "execution_count": 63,
     "metadata": {},
     "output_type": "execute_result"
    }
   ],
   "source": [
    "df.select(df['from'])[~contains('enron')(df['from'])].distinct().count()"
   ]
  },
  {
   "cell_type": "code",
   "execution_count": null,
   "metadata": {
    "collapsed": true
   },
   "outputs": [],
   "source": []
  },
  {
   "cell_type": "code",
   "execution_count": null,
   "metadata": {
    "collapsed": true
   },
   "outputs": [],
   "source": []
  },
  {
   "cell_type": "code",
   "execution_count": null,
   "metadata": {
    "collapsed": true
   },
   "outputs": [],
   "source": []
  },
  {
   "cell_type": "markdown",
   "metadata": {
    "collapsed": true
   },
   "source": [
    "# Load CSV"
   ]
  },
  {
   "cell_type": "code",
   "execution_count": 9,
   "metadata": {
    "collapsed": false
   },
   "outputs": [],
   "source": [
    "dicFile = 'enron_small_dic.csv'\n",
    "\n",
    "csvLoader = sqlContext.read.format('com.databricks.spark.csv')\n",
    "dic = csvLoader.options(delimiter='\\t', header='false', inferschema='true').load(dicFile)"
   ]
  },
  {
   "cell_type": "code",
   "execution_count": 13,
   "metadata": {
    "collapsed": false
   },
   "outputs": [
    {
     "data": {
      "text/plain": [
       "['C0', 'C1', 'C2']"
      ]
     },
     "execution_count": 13,
     "metadata": {},
     "output_type": "execute_result"
    }
   ],
   "source": [
    "dic.columns"
   ]
  },
  {
   "cell_type": "code",
   "execution_count": null,
   "metadata": {
    "collapsed": true
   },
   "outputs": [],
   "source": []
  },
  {
   "cell_type": "code",
   "execution_count": null,
   "metadata": {
    "collapsed": true
   },
   "outputs": [],
   "source": []
  },
  {
   "cell_type": "code",
   "execution_count": null,
   "metadata": {
    "collapsed": true
   },
   "outputs": [],
   "source": []
  },
  {
   "cell_type": "code",
   "execution_count": null,
   "metadata": {
    "collapsed": true
   },
   "outputs": [],
   "source": []
  },
  {
   "cell_type": "code",
   "execution_count": null,
   "metadata": {
    "collapsed": true
   },
   "outputs": [],
   "source": []
  },
  {
   "cell_type": "code",
   "execution_count": null,
   "metadata": {
    "collapsed": true
   },
   "outputs": [],
   "source": []
  },
  {
   "cell_type": "code",
   "execution_count": null,
   "metadata": {
    "collapsed": true
   },
   "outputs": [],
   "source": []
  },
  {
   "cell_type": "code",
   "execution_count": null,
   "metadata": {
    "collapsed": true
   },
   "outputs": [],
   "source": []
  },
  {
   "cell_type": "code",
   "execution_count": null,
   "metadata": {
    "collapsed": true
   },
   "outputs": [],
   "source": []
  },
  {
   "cell_type": "code",
   "execution_count": null,
   "metadata": {
    "collapsed": true
   },
   "outputs": [],
   "source": []
  }
 ],
 "metadata": {
  "kernelspec": {
   "display_name": "Python 2",
   "language": "python",
   "name": "python2"
  },
  "language_info": {
   "codemirror_mode": {
    "name": "ipython",
    "version": 2
   },
   "file_extension": ".py",
   "mimetype": "text/x-python",
   "name": "python",
   "nbconvert_exporter": "python",
   "pygments_lexer": "ipython2",
   "version": "2.7.8"
  }
 },
 "nbformat": 4,
 "nbformat_minor": 0
}
